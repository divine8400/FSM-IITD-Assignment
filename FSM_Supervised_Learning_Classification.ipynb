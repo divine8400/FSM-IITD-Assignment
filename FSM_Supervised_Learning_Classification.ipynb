{
 "cells": [
  {
   "cell_type": "markdown",
   "id": "dd463abb-2898-4e93-a4b6-908b5a06ec9c",
   "metadata": {},
   "source": [
    "Importing Necessary Libraries"
   ]
  },
  {
   "cell_type": "code",
   "execution_count": 17,
   "id": "1db0d2a3-086e-41fe-b9fa-c85cd9275be9",
   "metadata": {},
   "outputs": [],
   "source": [
    "import numpy as np\n",
    "import pandas as pd\n",
    "import csv\n",
    "import numpy as np\n",
    "import pandas as pd\n",
    "import matplotlib.pyplot as plt\n",
    "import seaborn as sns\n",
    "from sklearn.preprocessing import LabelEncoder\n",
    "from scipy.spatial import distance"
   ]
  },
  {
   "cell_type": "markdown",
   "id": "059eea29-3ea6-4dbf-9a95-988e89996b33",
   "metadata": {},
   "source": [
    "Reading data from path"
   ]
  },
  {
   "cell_type": "code",
   "execution_count": 12,
   "id": "ed4085b8-fd0e-4c49-a497-a41e3c2222b3",
   "metadata": {},
   "outputs": [],
   "source": [
    "train_data = pd.read_csv(\"C:/Users/Divine/Downloads/titanic/train.csv\")\n",
    "test_data = pd.read_csv(\"C:/Users/Divine/Downloads/titanic/test.csv\")"
   ]
  },
  {
   "cell_type": "markdown",
   "id": "2979a7dd-b23f-4390-b286-926fe8d7ff86",
   "metadata": {},
   "source": [
    "Data Preprocessing"
   ]
  },
  {
   "cell_type": "code",
   "execution_count": 13,
   "id": "69b1f04b-5ff2-4a04-acb0-45ca9d41574a",
   "metadata": {},
   "outputs": [],
   "source": [
    "df = pd.concat([train_data,test_data], ignore_index = True, sort = False) \n",
    "#Like sibsp, this feature has number of parents ot children each passenger\n",
    "#was travelling with. I made a new column named family by adding Parch and\n",
    "# SibSp\n",
    "\n",
    "df['Family'] = df.Parch + df.SibSp\n",
    "#I concluded from here that more people survived who were travelling alone.\n",
    "df['Alone'] = df.Family == 0\n",
    "\n",
    "#There is also a possiblity that ticket price or fare was dependent on the\n",
    "#survival chances, because the crew most probably gives more facility and\n",
    "#priority to passengers who payed more\n",
    "df['Fare_Category'] = pd.cut(df['Fare'], bins=[0,7.90,14.45,31.28,120],\n",
    "                             labels=['Low','Mid',\n",
    "                                     'High_Mid','High'])\n",
    "#Imputation\n",
    "#embarked column had only 2 missing values and since most people boarded from\n",
    "#southhampton, I filled the missing values with southhampton\n",
    "df.Embarked.fillna(df.Embarked.mode()[0], inplace = True)\n",
    "#cabin\n",
    "#As the column ‘Cabin’ had a lot of missing data. I decided to categorize all\n",
    "#the missing data as a different class. I named it NA. I assigned all the\n",
    "#missing values with this value.\n",
    "df.Cabin = df.Cabin.fillna('NA')\n",
    "#age\n",
    "#age had also more missing values then I though of distributing people based\n",
    "#on their salutations .\n",
    "df['Salutation'] = df.Name.apply(lambda name: name.split(',')[1].split('.')[0].strip())\n",
    "#grouped titles with Sex and Pclass\n",
    "group = df.groupby(['Sex', 'Pclass'])\n",
    "#I substituted median of the group in the missing rows\n",
    "group.Age.apply(lambda x:x.fillna(x.median()))\n",
    "df.Age.fillna(df.Age.median, inplace = True)\n",
    "#encoding\n",
    "#since Sex was assigned as male and female which is a string data, I\n",
    "#converted them to numeric data .\n",
    "from sklearn.preprocessing import LabelEncoder\n",
    "df['Sex'] = LabelEncoder().fit_transform(df['Sex'])\n",
    "#for other categorical data creating dummies\n",
    "pd.get_dummies(df.Embarked, prefix='Emb', drop_first = True)\n",
    "#Dropped the columns which I did not need for predictions and the columns\n",
    "#I added by creating their dummies\n",
    "df.drop(['Pclass', 'Fare','Cabin', 'Fare_Category','Name','Salutation', 'Ticket','Embarked', 'SibSp', 'Parch', 'Age'], axis=1, inplace=True)"
   ]
  },
  {
   "cell_type": "markdown",
   "id": "847e1e6e-d2ac-4b06-89b8-37ede4257f6a",
   "metadata": {},
   "source": [
    "Preparing Training and Testing Data"
   ]
  },
  {
   "cell_type": "code",
   "execution_count": 14,
   "id": "a7a0f56f-8586-43de-9cc6-ba322215befc",
   "metadata": {},
   "outputs": [],
   "source": [
    "# Data to be predicted\n",
    "X_to_be_predicted = df[df.Survived.isnull()]\n",
    "X_to_be_predicted = X_to_be_predicted.drop(['Survived'], axis = 1)\n",
    "# X_to_be_predicted[X_to_be_predicted.Age.isnull()]\n",
    "# X_to_be_predicted.dropna(inplace = True) # 417 x 27\n",
    "#Training data\n",
    "train_data = df\n",
    "train_data = train_data.dropna()\n",
    "feature_train = train_data['Survived']\n",
    "label_train  = train_data.drop(['Survived'], axis = 1)\n",
    "from sklearn.model_selection import train_test_split\n",
    "x_train, x_test, y_train, y_test = train_test_split(label_train, feature_train, test_size=0.2)"
   ]
  },
  {
   "cell_type": "markdown",
   "id": "9491eb90-aad8-4140-bf63-b15bee0446dc",
   "metadata": {},
   "source": [
    "Building Naive Bayes Classifier from scratch"
   ]
  },
  {
   "cell_type": "code",
   "execution_count": 15,
   "id": "6ca3b011-0ef2-48af-99d6-c9c1f9d93640",
   "metadata": {},
   "outputs": [],
   "source": [
    "class NaiveBayes:\n",
    "    def __init__(self):\n",
    "        self.prior = {}\n",
    "        self.conditional_probs = {}\n",
    "\n",
    "    def fit(self, X_train, y_train):\n",
    "        # Calculate class prior probabilities\n",
    "        self.prior = dict(y_train.value_counts(normalize=True))\n",
    "\n",
    "        # conditional probabilities for each feature\n",
    "        for feature in X_train.columns:\n",
    "            self.conditional_probs[feature] = {}\n",
    "            unique_values = X_train[feature].unique()\n",
    "\n",
    "            for value in unique_values:\n",
    "                self.conditional_probs[feature][value] = {}\n",
    "\n",
    "                for class_label in self.prior:\n",
    "                    class_mask = (y_train == class_label)\n",
    "                    count = X_train.loc[class_mask, feature].value_counts().get(value, 0)\n",
    "                    total = class_mask.sum()\n",
    "                    self.conditional_probs[feature][value][class_label] = (count + 1) / (total + len(unique_values))\n",
    "\n",
    "    def predict(self, X_test):\n",
    "        predictions = []\n",
    "\n",
    "        for _, row in X_test.iterrows():\n",
    "            posterior_probs = {}\n",
    "\n",
    "            for class_label in self.prior:\n",
    "                posterior_probs[class_label] = self.prior[class_label]\n",
    "\n",
    "                for feature in X_test.columns:\n",
    "                    feature_value = row[feature]\n",
    "                    if feature_value not in self.conditional_probs[feature]:\n",
    "                        posterior_probs[class_label] *= 1 / (X_test.shape[0] + 1)\n",
    "                    else:\n",
    "                        conditional_prob = self.conditional_probs[feature][feature_value][class_label]\n",
    "                        posterior_probs[class_label] *= conditional_prob\n",
    "\n",
    "            predicted_class = max(posterior_probs, key=posterior_probs.get)\n",
    "            predictions.append(predicted_class)\n",
    "\n",
    "        return predictions"
   ]
  },
  {
   "cell_type": "markdown",
   "id": "d4cbdaf7-8b4c-4ebb-816e-ed2de7cdf250",
   "metadata": {},
   "source": [
    "Implementing Naive Bayes Classifier"
   ]
  },
  {
   "cell_type": "code",
   "execution_count": 16,
   "id": "baebdcb1-bb11-4363-87ad-1eefa61f0771",
   "metadata": {},
   "outputs": [
    {
     "name": "stdout",
     "output_type": "stream",
     "text": [
      "Predictions: [1.0, 0.0, 0.0, 0.0, 1.0, 0.0, 0.0, 1.0, 1.0, 0.0, 0.0, 0.0, 1.0, 0.0, 1.0, 1.0, 1.0, 0.0, 1.0, 0.0, 1.0, 0.0, 1.0, 1.0, 0.0, 0.0, 0.0, 0.0, 1.0, 1.0, 0.0, 0.0, 1.0, 0.0, 1.0, 0.0, 0.0, 0.0, 1.0, 0.0, 0.0, 0.0, 0.0, 1.0, 0.0, 0.0, 1.0, 1.0, 0.0, 1.0, 1.0, 0.0, 0.0, 0.0, 0.0, 0.0, 0.0, 1.0, 1.0, 0.0, 0.0, 0.0, 0.0, 0.0, 0.0, 0.0, 0.0, 0.0, 0.0, 1.0, 0.0, 1.0, 1.0, 1.0, 0.0, 0.0, 1.0, 0.0, 0.0, 0.0, 0.0, 1.0, 0.0, 0.0, 0.0, 0.0, 1.0, 0.0, 1.0, 0.0, 0.0, 0.0, 0.0, 1.0, 1.0, 0.0, 0.0, 1.0, 0.0, 0.0, 1.0, 0.0, 0.0, 1.0, 1.0, 0.0, 0.0, 1.0, 0.0, 0.0, 1.0, 0.0, 1.0, 0.0, 0.0, 1.0, 0.0, 0.0, 0.0, 0.0, 0.0, 0.0, 1.0, 1.0, 0.0, 1.0, 0.0, 0.0, 1.0, 0.0, 0.0, 1.0, 1.0, 1.0, 0.0, 0.0, 0.0, 0.0, 1.0, 1.0, 1.0, 0.0, 0.0, 1.0, 1.0, 1.0, 0.0, 0.0, 0.0, 1.0, 0.0, 1.0, 1.0, 0.0, 0.0, 0.0, 0.0, 0.0, 0.0, 0.0, 1.0, 0.0, 0.0, 0.0, 0.0, 0.0, 1.0, 1.0, 0.0, 1.0, 0.0, 0.0, 0.0, 1.0, 0.0, 0.0, 0.0, 0.0, 1.0]\n",
      "Accuracy: 0.8212290502793296\n"
     ]
    }
   ],
   "source": [
    "naive_bayes = NaiveBayes()\n",
    "naive_bayes.fit(x_train, y_train)\n",
    "predictions = naive_bayes.predict(x_test)\n",
    "print(\"Predictions:\", predictions)\n",
    "# After making predictions\n",
    "correct_predictions = sum(predictions == y_test)\n",
    "accuracy = correct_predictions / len(y_test)\n",
    "print(\"Accuracy:\", accuracy)"
   ]
  },
  {
   "cell_type": "markdown",
   "id": "8c0621e2-8e9d-4f6b-87bd-d2de4b131d6b",
   "metadata": {},
   "source": [
    "Some Visualizations"
   ]
  },
  {
   "cell_type": "code",
   "execution_count": 4,
   "id": "ddd70356-4147-4c47-9630-7bdfa04e8947",
   "metadata": {},
   "outputs": [
    {
     "data": {
      "image/png": "[encoded data removed]",
      "text/plain": [
       "<Figure size 432x288 with 2 Axes>"
      ]
     },
     "metadata": {
      "needs_background": "light"
     },
     "output_type": "display_data"
    }
   ],
   "source": [
    "from sklearn.metrics import confusion_matrix\n",
    "import seaborn as sns\n",
    "import matplotlib.pyplot as plt\n",
    "\n",
    "# Calculate the confusion matrix\n",
    "cm = confusion_matrix(y_test, predictions)\n",
    "\n",
    "# Create a heatmap of the confusion matrix\n",
    "sns.heatmap(cm, annot=True, fmt=\"d\", cmap=\"Blues\")\n",
    "plt.xlabel(\"Predicted Labels\")\n",
    "plt.ylabel(\"True Labels\")\n",
    "plt.title(\"Confusion Matrix\")\n",
    "plt.show()\n"
   ]
  },
  {
   "cell_type": "code",
   "execution_count": 6,
   "id": "701e94ad-025c-44ea-88f5-cdce358b8dac",
   "metadata": {},
   "outputs": [
    {
     "data": {
      "image/png": "[encoded data removed]",
      "text/plain": [
       "<Figure size 432x288 with 1 Axes>"
      ]
     },
     "metadata": {
      "needs_background": "light"
     },
     "output_type": "display_data"
    }
   ],
   "source": [
    "from sklearn.metrics import roc_curve, auc\n",
    "\n",
    "# Calculate the false positive rate and true positive rate\n",
    "fpr, tpr, _ = roc_curve(y_test, predictions)\n",
    "roc_auc = auc(fpr, tpr)\n",
    "\n",
    "# Plot the ROC curve\n",
    "plt.plot(fpr, tpr, label='ROC curve (area = %0.2f)' % roc_auc)\n",
    "plt.plot([0, 1], [0, 1], 'k--')\n",
    "plt.xlim([0.0, 1.0])\n",
    "plt.ylim([0.0, 1.05])\n",
    "plt.xlabel('False Positive Rate')\n",
    "plt.ylabel('True Positive Rate')\n",
    "plt.title('Receiver Operating Characteristic')\n",
    "plt.legend(loc=\"lower right\")\n",
    "plt.show()\n"
   ]
  },
  {
   "cell_type": "markdown",
   "id": "d2d82e52-812a-4644-9e33-e8f7938acb15",
   "metadata": {},
   "source": [
    "Building KNN classifier from scratch"
   ]
  },
  {
   "cell_type": "code",
   "execution_count": 18,
   "id": "242a6f1a-a31f-4d1b-a68a-49769c39b562",
   "metadata": {},
   "outputs": [],
   "source": [
    "class KNNClassifier:\n",
    "    def __init__(self, k):\n",
    "        self.k = k\n",
    "\n",
    "    def fit(self, X_train, y_train):\n",
    "        self.X_train = X_train\n",
    "        self.y_train = y_train\n",
    "\n",
    "    def predict(self, X_test):\n",
    "        predictions = []\n",
    "\n",
    "        for _, row in X_test.iterrows():\n",
    "            distances = []\n",
    "\n",
    "            for _, train_row in self.X_train.iterrows():\n",
    "                dist = distance.euclidean(row.values, train_row.values)\n",
    "                distances.append(dist)\n",
    "\n",
    "            nearest_indices = np.argsort(distances)[:self.k]\n",
    "            nearest_labels = self.y_train.iloc[nearest_indices]\n",
    "            predicted_class = nearest_labels.mode()[0]\n",
    "            predictions.append(predicted_class)\n",
    "\n",
    "        return predictions\n"
   ]
  },
  {
   "cell_type": "code",
   "execution_count": 20,
   "id": "588ea864-1a55-4fdb-819f-cc28b0459b37",
   "metadata": {},
   "outputs": [
    {
     "name": "stdout",
     "output_type": "stream",
     "text": [
      "Predictions: [0.0, 0.0, 0.0, 1.0, 1.0, 0.0, 1.0, 0.0, 0.0, 1.0, 0.0, 1.0, 1.0, 0.0, 1.0, 0.0, 0.0, 1.0, 0.0, 0.0, 0.0, 1.0, 1.0, 1.0, 0.0, 0.0, 1.0, 0.0, 1.0, 1.0, 1.0, 0.0, 0.0, 0.0, 0.0, 0.0, 1.0, 0.0, 0.0, 0.0, 1.0, 0.0, 0.0, 0.0, 1.0, 0.0, 1.0, 0.0, 0.0, 0.0, 1.0, 0.0, 1.0, 0.0, 0.0, 0.0, 0.0, 0.0, 0.0, 0.0, 0.0, 0.0, 0.0, 0.0, 0.0, 1.0, 1.0, 1.0, 0.0, 0.0, 0.0, 1.0, 1.0, 0.0, 1.0, 0.0, 0.0, 1.0, 0.0, 0.0, 0.0, 0.0, 1.0, 0.0, 1.0, 0.0, 0.0, 1.0, 0.0, 0.0, 0.0, 0.0, 1.0, 0.0, 0.0, 0.0, 0.0, 0.0, 0.0, 0.0, 0.0, 0.0, 0.0, 1.0, 0.0, 1.0, 1.0, 1.0, 0.0, 0.0, 0.0, 1.0, 1.0, 1.0, 0.0, 1.0, 1.0, 0.0, 0.0, 0.0, 0.0, 1.0, 1.0, 1.0, 0.0, 1.0, 1.0, 0.0, 1.0, 1.0, 0.0, 1.0, 0.0, 0.0, 1.0, 1.0, 1.0, 0.0, 0.0, 0.0, 0.0, 0.0, 0.0, 0.0, 0.0, 0.0, 1.0, 1.0, 0.0, 0.0, 1.0, 0.0, 0.0, 1.0, 1.0, 0.0, 1.0, 1.0, 0.0, 0.0, 1.0, 1.0, 0.0, 0.0, 1.0, 1.0, 1.0, 0.0, 0.0, 0.0, 0.0, 0.0, 0.0, 0.0, 1.0, 0.0, 1.0, 0.0, 1.0]\n",
      "Accuracy: 0.5363128491620112\n"
     ]
    }
   ],
   "source": [
    "# Initialize and train the KNN classifier\n",
    "knn_classifier = KNNClassifier(k=3)\n",
    "knn_classifier.fit(x_train, y_train)\n",
    "\n",
    "# Make predictions on the test dataset\n",
    "predictions = knn_classifier.predict(x_test)\n",
    "\n",
    "# Print the predictions\n",
    "print(\"Predictions:\", predictions)\n",
    "correct_predictions = sum(predictions == y_test)\n",
    "accuracy = correct_predictions / len(y_test)\n",
    "print(\"Accuracy:\", accuracy)"
   ]
  },
  {
   "cell_type": "code",
   "execution_count": 21,
   "id": "c9b758e3-d275-4bde-8d2e-bbce3e5560d5",
   "metadata": {},
   "outputs": [
    {
     "data": {
      "image/png": "[encoded data removed]",
      "text/plain": [
       "<Figure size 432x288 with 2 Axes>"
      ]
     },
     "metadata": {
      "needs_background": "light"
     },
     "output_type": "display_data"
    }
   ],
   "source": [
    "# Calculate the confusion matrix\n",
    "cm = confusion_matrix(y_test, predictions)\n",
    "\n",
    "# Create a heatmap of the confusion matrix\n",
    "sns.heatmap(cm, annot=True, fmt=\"d\", cmap=\"Blues\")\n",
    "plt.xlabel(\"Predicted Labels\")\n",
    "plt.ylabel(\"True Labels\")\n",
    "plt.title(\"Confusion Matrix\")\n",
    "plt.show()"
   ]
  },
  {
   "cell_type": "code",
   "execution_count": 22,
   "id": "6e4fc22c-1b39-4f9a-bb90-a55b361bc939",
   "metadata": {},
   "outputs": [
    {
     "data": {
      "image/png": "[encoded data removed]",
      "text/plain": [
       "<Figure size 432x288 with 1 Axes>"
      ]
     },
     "metadata": {
      "needs_background": "light"
     },
     "output_type": "display_data"
    }
   ],
   "source": [
    "from sklearn.metrics import roc_curve, auc\n",
    "\n",
    "# Calculate the false positive rate and true positive rate\n",
    "fpr, tpr, _ = roc_curve(y_test, predictions)\n",
    "roc_auc = auc(fpr, tpr)\n",
    "\n",
    "# Plot the ROC curve\n",
    "plt.plot(fpr, tpr, label='ROC curve (area = %0.2f)' % roc_auc)\n",
    "plt.plot([0, 1], [0, 1], 'k--')\n",
    "plt.xlim([0.0, 1.0])\n",
    "plt.ylim([0.0, 1.05])\n",
    "plt.xlabel('False Positive Rate')\n",
    "plt.ylabel('True Positive Rate')\n",
    "plt.title('Receiver Operating Characteristic')\n",
    "plt.legend(loc=\"lower right\")\n",
    "plt.show()"
   ]
  }
 ],
 "metadata": {
  "kernelspec": {
   "display_name": "Python 3 (ipykernel)",
   "language": "python",
   "name": "python3"
  },
  "language_info": {
   "codemirror_mode": {
    "name": "ipython",
    "version": 3
   },
   "file_extension": ".py",
   "mimetype": "text/x-python",
   "name": "python",
   "nbconvert_exporter": "python",
   "pygments_lexer": "ipython3",
   "version": "3.9.12"
  }
 },
 "nbformat": 4,
 "nbformat_minor": 5
}
